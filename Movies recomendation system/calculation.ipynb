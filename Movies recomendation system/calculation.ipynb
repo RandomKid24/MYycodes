{
 "cells": [
  {
   "cell_type": "code",
   "execution_count": 1,
   "metadata": {},
   "outputs": [],
   "source": [
    "import pandas as p"
   ]
  },
  {
   "cell_type": "code",
   "execution_count": 9,
   "metadata": {},
   "outputs": [],
   "source": [
    "# r1 = p.read_csv('imdb_ratings1.csv')\n",
    "# r2 = p.read_csv('imdb_ratings2.csv')\n",
    "# r3 = p.read_csv('imdb_ratings3.csv')\n",
    "# r4 = p.read_csv('imdb_ratings4.csv')\n",
    "r1 = p.read_csv('imdb_ratings(1).csv')\n",
    "r2 = p.read_csv('imdb_ratings(2).csv')\n",
    "r3 = p.read_csv('imdb_ratings(3).csv')\n",
    "r4 = p.read_csv('imdb_ratings(4).csv')"
   ]
  },
  {
   "cell_type": "code",
   "execution_count": null,
   "metadata": {},
   "outputs": [],
   "source": []
  },
  {
   "cell_type": "code",
   "execution_count": 10,
   "metadata": {},
   "outputs": [
    {
     "name": "stdout",
     "output_type": "stream",
     "text": [
      "<class 'pandas.core.frame.DataFrame'>\n",
      "RangeIndex: 50 entries, 0 to 49\n",
      "Data columns (total 2 columns):\n",
      " #   Column  Non-Null Count  Dtype  \n",
      "---  ------  --------------  -----  \n",
      " 0   imdbId  50 non-null     int64  \n",
      " 1   rating  50 non-null     float64\n",
      "dtypes: float64(1), int64(1)\n",
      "memory usage: 928.0 bytes\n",
      "<class 'pandas.core.frame.DataFrame'>\n",
      "RangeIndex: 70 entries, 0 to 69\n",
      "Data columns (total 2 columns):\n",
      " #   Column  Non-Null Count  Dtype  \n",
      "---  ------  --------------  -----  \n",
      " 0   imdbId  70 non-null     int64  \n",
      " 1   rating  70 non-null     float64\n",
      "dtypes: float64(1), int64(1)\n",
      "memory usage: 1.2 KB\n",
      "<class 'pandas.core.frame.DataFrame'>\n",
      "RangeIndex: 10 entries, 0 to 9\n",
      "Data columns (total 2 columns):\n",
      " #   Column  Non-Null Count  Dtype  \n",
      "---  ------  --------------  -----  \n",
      " 0   imdbId  10 non-null     int64  \n",
      " 1   rating  10 non-null     float64\n",
      "dtypes: float64(1), int64(1)\n",
      "memory usage: 288.0 bytes\n",
      "<class 'pandas.core.frame.DataFrame'>\n",
      "RangeIndex: 50 entries, 0 to 49\n",
      "Data columns (total 2 columns):\n",
      " #   Column  Non-Null Count  Dtype  \n",
      "---  ------  --------------  -----  \n",
      " 0   imdbId  50 non-null     int64  \n",
      " 1   rating  50 non-null     float64\n",
      "dtypes: float64(1), int64(1)\n",
      "memory usage: 928.0 bytes\n"
     ]
    }
   ],
   "source": [
    "r1.info()\n",
    "r2.info()\n",
    "r3.info()\n",
    "r4.info()"
   ]
  },
  {
   "cell_type": "code",
   "execution_count": 6,
   "metadata": {},
   "outputs": [
    {
     "data": {
      "text/plain": [
       "256"
      ]
     },
     "execution_count": 6,
     "metadata": {},
     "output_type": "execute_result"
    }
   ],
   "source": [
    "39+50+100+67"
   ]
  },
  {
   "cell_type": "code",
   "execution_count": 7,
   "metadata": {},
   "outputs": [
    {
     "data": {
      "text/plain": [
       "130"
      ]
     },
     "execution_count": 7,
     "metadata": {},
     "output_type": "execute_result"
    }
   ],
   "source": [
    "10+50+70"
   ]
  },
  {
   "cell_type": "code",
   "execution_count": 11,
   "metadata": {},
   "outputs": [
    {
     "data": {
      "text/plain": [
       "436"
      ]
     },
     "execution_count": 11,
     "metadata": {},
     "output_type": "execute_result"
    }
   ],
   "source": [
    "256+130+50"
   ]
  },
  {
   "cell_type": "code",
   "execution_count": 12,
   "metadata": {},
   "outputs": [],
   "source": [
    "import pandas as pd\n",
    "\n",
    "# Assuming you have multiple CSV files to append\n",
    "file_paths = [\"imdb_ratings(1).csv\", \"imdb_ratings(2).csv\", \"imdb_ratings(3).csv\",'imdb_ratings(4).csv',\n",
    "'imdb_ratings1.csv',\"imdb_ratings2.csv\",\"imdb_ratings3.csv\",\"imdb_ratings4.csv\"]\n",
    "\n",
    "# List to store DataFrames\n",
    "dfs = []\n",
    "\n",
    "# Read each CSV file into a DataFrame and append to the list\n",
    "for file_path in file_paths:\n",
    "    df = pd.read_csv(file_path,dtype={'imdbId': str})\n",
    "    dfs.append(df)\n",
    "\n",
    "# Concatenate the DataFrames in the list\n",
    "appended_df = pd.concat(dfs, ignore_index=True)\n",
    "\n",
    "# Save the appended DataFrame to a new CSV file\n",
    "appended_df.to_csv(\"appended_data.csv\", index=False)\n"
   ]
  },
  {
   "cell_type": "code",
   "execution_count": 13,
   "metadata": {},
   "outputs": [],
   "source": [
    "f = p.read_csv('appended_data.csv')"
   ]
  },
  {
   "cell_type": "code",
   "execution_count": 14,
   "metadata": {},
   "outputs": [
    {
     "name": "stdout",
     "output_type": "stream",
     "text": [
      "<class 'pandas.core.frame.DataFrame'>\n",
      "RangeIndex: 436 entries, 0 to 435\n",
      "Data columns (total 2 columns):\n",
      " #   Column  Non-Null Count  Dtype  \n",
      "---  ------  --------------  -----  \n",
      " 0   imdbId  436 non-null    int64  \n",
      " 1   rating  436 non-null    float64\n",
      "dtypes: float64(1), int64(1)\n",
      "memory usage: 6.9 KB\n"
     ]
    }
   ],
   "source": [
    "f.info()"
   ]
  }
 ],
 "metadata": {
  "kernelspec": {
   "display_name": "Python 3",
   "language": "python",
   "name": "python3"
  },
  "language_info": {
   "codemirror_mode": {
    "name": "ipython",
    "version": 3
   },
   "file_extension": ".py",
   "mimetype": "text/x-python",
   "name": "python",
   "nbconvert_exporter": "python",
   "pygments_lexer": "ipython3",
   "version": "3.10.0"
  }
 },
 "nbformat": 4,
 "nbformat_minor": 2
}

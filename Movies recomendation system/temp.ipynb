{
 "cells": [
  {
   "cell_type": "markdown",
   "metadata": {},
   "source": [
    "**Download the data from the above link. How many \".csv\" files are available in the dataset?**\n"
   ]
  },
  {
   "cell_type": "markdown",
   "metadata": {},
   "source": [
    "4 csv files"
   ]
  },
  {
   "cell_type": "code",
   "execution_count": 1,
   "metadata": {},
   "outputs": [],
   "source": [
    "import pandas as p"
   ]
  },
  {
   "cell_type": "code",
   "execution_count": 2,
   "metadata": {},
   "outputs": [],
   "source": [
    "movies = p.read_csv(\"movies.csv\")\n",
    "rating = p.read_csv(\"ratings.csv\")"
   ]
  },
  {
   "cell_type": "markdown",
   "metadata": {},
   "source": [
    "**What is the shape of \"ratings.csv\"?**"
   ]
  },
  {
   "cell_type": "code",
   "execution_count": 4,
   "metadata": {},
   "outputs": [
    {
     "data": {
      "text/plain": [
       "(9742, 3)"
      ]
     },
     "execution_count": 4,
     "metadata": {},
     "output_type": "execute_result"
    }
   ],
   "source": [
    "movies.shape"
   ]
  },
  {
   "cell_type": "markdown",
   "metadata": {},
   "source": [
    "**What is the shape of \"movies.csv\"?**"
   ]
  },
  {
   "cell_type": "code",
   "execution_count": 5,
   "metadata": {},
   "outputs": [],
   "source": []
  },
  {
   "cell_type": "code",
   "execution_count": 6,
   "metadata": {},
   "outputs": [
    {
     "data": {
      "text/plain": [
       "(100836, 4)"
      ]
     },
     "execution_count": 6,
     "metadata": {},
     "output_type": "execute_result"
    }
   ],
   "source": [
    "rating.shape"
   ]
  },
  {
   "cell_type": "markdown",
   "metadata": {},
   "source": [
    "**How many unique \"userId\" are available in \"ratings.csv\"?**"
   ]
  },
  {
   "cell_type": "code",
   "execution_count": 78,
   "metadata": {},
   "outputs": [
    {
     "data": {
      "text/plain": [
       "610"
      ]
     },
     "execution_count": 78,
     "metadata": {},
     "output_type": "execute_result"
    }
   ],
   "source": [
    "len(rating['userId'].unique())"
   ]
  },
  {
   "cell_type": "markdown",
   "metadata": {},
   "source": [
    "**Which movie has recieved maximum number of user ratings?**"
   ]
  },
  {
   "cell_type": "code",
   "execution_count": 106,
   "metadata": {},
   "outputs": [
    {
     "name": "stdout",
     "output_type": "stream",
     "text": [
      "Forrest Gump (1994)\n"
     ]
    }
   ],
   "source": [
    "ratings_count_per_movie = rating.groupby(\"movieId\")[\"rating\"].count()\n",
    "max_rated_movie_id = ratings_count_per_movie.idxmax()\n",
    "max_rated_movie_title = movies[movies[\"movieId\"] == max_rated_movie_id][\"title\"].iloc[0]\n",
    "print(max_rated_movie_title)"
   ]
  },
  {
   "cell_type": "markdown",
   "metadata": {},
   "source": [
    "**Select all the correct tags submitted by users to \"Matrix, The (1999)\" movie?**"
   ]
  },
  {
   "cell_type": "code",
   "execution_count": 1,
   "metadata": {},
   "outputs": [
    {
     "ename": "NameError",
     "evalue": "name 'pd' is not defined",
     "output_type": "error",
     "traceback": [
      "\u001b[1;31m---------------------------------------------------------------------------\u001b[0m",
      "\u001b[1;31mNameError\u001b[0m                                 Traceback (most recent call last)",
      "Cell \u001b[1;32mIn[1], line 1\u001b[0m\n\u001b[1;32m----> 1\u001b[0m df_movies \u001b[38;5;241m=\u001b[39m \u001b[43mpd\u001b[49m\u001b[38;5;241m.\u001b[39mread_csv(\u001b[38;5;124m\"\u001b[39m\u001b[38;5;124mmovies.csv\u001b[39m\u001b[38;5;124m\"\u001b[39m)\n\u001b[0;32m      2\u001b[0m df_tags \u001b[38;5;241m=\u001b[39m pd\u001b[38;5;241m.\u001b[39mread_csv(\u001b[38;5;124m\"\u001b[39m\u001b[38;5;124mtags.csv\u001b[39m\u001b[38;5;124m\"\u001b[39m)\n\u001b[0;32m      4\u001b[0m matrix_movie_id \u001b[38;5;241m=\u001b[39m df_movies[df_movies[\u001b[38;5;124m\"\u001b[39m\u001b[38;5;124mtitle\u001b[39m\u001b[38;5;124m\"\u001b[39m] \u001b[38;5;241m==\u001b[39m \u001b[38;5;124m\"\u001b[39m\u001b[38;5;124mMatrix, The (1999)\u001b[39m\u001b[38;5;124m\"\u001b[39m][\u001b[38;5;124m\"\u001b[39m\u001b[38;5;124mmovieId\u001b[39m\u001b[38;5;124m\"\u001b[39m]\u001b[38;5;241m.\u001b[39miloc[\u001b[38;5;241m0\u001b[39m]\n",
      "\u001b[1;31mNameError\u001b[0m: name 'pd' is not defined"
     ]
    }
   ],
   "source": [
    "\n",
    "df_movies = pd.read_csv(\"movies.csv\")\n",
    "df_tags = pd.read_csv(\"tags.csv\")\n",
    "\n",
    "matrix_movie_id = df_movies[df_movies[\"title\"] == \"Matrix, The (1999)\"][\"movieId\"].iloc[0]\n",
    "\n",
    "tags_for_matrix = df_tags[df_tags[\"movieId\"] == matrix_movie_id]\n",
    "\n",
    "print(tags_for_matrix)\n"
   ]
  },
  {
   "cell_type": "markdown",
   "metadata": {},
   "source": [
    "**What is the average user rating for movie named \"Terminator 2: Judgment Day (1991)\"?**"
   ]
  },
  {
   "cell_type": "code",
   "execution_count": 29,
   "metadata": {},
   "outputs": [
    {
     "name": "stdout",
     "output_type": "stream",
     "text": [
      "Average user rating for 'Terminator 2: Judgment Day (1991)': 3.97\n"
     ]
    }
   ],
   "source": [
    "import pandas as pd\n",
    "\n",
    "df_movies = pd.read_csv(\"movies.csv\")\n",
    "df_ratings = pd.read_csv(\"ratings.csv\")\n",
    "\n",
    "terminator2_movie_id = df_movies[df_movies[\"title\"] == \"Terminator 2: Judgment Day (1991)\"][\"movieId\"].iloc[0]\n",
    "ratings_for_terminator2 = df_ratings[df_ratings[\"movieId\"] == terminator2_movie_id]\n",
    "average_rating_for_terminator2 = ratings_for_terminator2[\"rating\"].mean()\n",
    "\n",
    "print(f\"Average user rating for 'Terminator 2: Judgment Day (1991)': {average_rating_for_terminator2:.2f}\")\n"
   ]
  },
  {
   "cell_type": "markdown",
   "metadata": {},
   "source": [
    "**How does the data distribution of user ratings for \"Fight Club (1999)\" movie looks like?**\n"
   ]
  },
  {
   "cell_type": "code",
   "execution_count": 110,
   "metadata": {},
   "outputs": [
    {
     "name": "stdout",
     "output_type": "stream",
     "text": [
      "The distribution type is: Left-Skewed\n"
     ]
    }
   ],
   "source": [
    "import pandas as pd\n",
    "import matplotlib.pyplot as plt\n",
    "from scipy.stats import skew, kurtosis\n",
    "\n",
    "fight_club_movie_id = movies[movies[\"title\"] == \"Fight Club (1999)\"][\"movieId\"].iloc[0]\n",
    "ratings_for_fight_club = rating[rating[\"movieId\"] == fight_club_movie_id]\n",
    "\n",
    "skewness = skew(ratings_for_fight_club[\"rating\"])\n",
    "kurt = kurtosis(ratings_for_fight_club[\"rating\"])\n",
    "\n",
    "if skewness < 0:\n",
    "    distribution_type = \"Left-Skewed\"\n",
    "elif skewness > 0:\n",
    "    distribution_type = \"Right-Skewed\"\n",
    "else:\n",
    "    distribution_type = \"Normal\"\n",
    "\n",
    "\n",
    "print(f\"The distribution type is: {distribution_type}\")\n"
   ]
  },
  {
   "cell_type": "markdown",
   "metadata": {},
   "source": [
    "**Mandatory Operations:\n",
    "1. Group the user ratings based on movieId and apply aggregation operations like count and mean on ratings. \n",
    "2. Apply inner join on dataframe created from movies.csv and the grouped df from step 1.\n",
    "3. Filter only those movies which have more than 50 user ratings (i.e. > 50).\n",
    "**"
   ]
  },
  {
   "cell_type": "code",
   "execution_count": 109,
   "metadata": {},
   "outputs": [
    {
     "data": {
      "text/html": [
       "<div>\n",
       "<style scoped>\n",
       "    .dataframe tbody tr th:only-of-type {\n",
       "        vertical-align: middle;\n",
       "    }\n",
       "\n",
       "    .dataframe tbody tr th {\n",
       "        vertical-align: top;\n",
       "    }\n",
       "\n",
       "    .dataframe thead th {\n",
       "        text-align: right;\n",
       "    }\n",
       "</style>\n",
       "<table border=\"1\" class=\"dataframe\">\n",
       "  <thead>\n",
       "    <tr style=\"text-align: right;\">\n",
       "      <th></th>\n",
       "      <th>movieId</th>\n",
       "      <th>title</th>\n",
       "      <th>genres</th>\n",
       "      <th>rating_count</th>\n",
       "      <th>rating_mean</th>\n",
       "    </tr>\n",
       "  </thead>\n",
       "  <tbody>\n",
       "    <tr>\n",
       "      <th>0</th>\n",
       "      <td>1</td>\n",
       "      <td>Toy Story (1995)</td>\n",
       "      <td>Adventure|Animation|Children|Comedy|Fantasy</td>\n",
       "      <td>215</td>\n",
       "      <td>3.920930</td>\n",
       "    </tr>\n",
       "    <tr>\n",
       "      <th>1</th>\n",
       "      <td>2</td>\n",
       "      <td>Jumanji (1995)</td>\n",
       "      <td>Adventure|Children|Fantasy</td>\n",
       "      <td>110</td>\n",
       "      <td>3.431818</td>\n",
       "    </tr>\n",
       "    <tr>\n",
       "      <th>2</th>\n",
       "      <td>3</td>\n",
       "      <td>Grumpier Old Men (1995)</td>\n",
       "      <td>Comedy|Romance</td>\n",
       "      <td>52</td>\n",
       "      <td>3.259615</td>\n",
       "    </tr>\n",
       "    <tr>\n",
       "      <th>5</th>\n",
       "      <td>6</td>\n",
       "      <td>Heat (1995)</td>\n",
       "      <td>Action|Crime|Thriller</td>\n",
       "      <td>102</td>\n",
       "      <td>3.946078</td>\n",
       "    </tr>\n",
       "    <tr>\n",
       "      <th>6</th>\n",
       "      <td>7</td>\n",
       "      <td>Sabrina (1995)</td>\n",
       "      <td>Comedy|Romance</td>\n",
       "      <td>54</td>\n",
       "      <td>3.185185</td>\n",
       "    </tr>\n",
       "    <tr>\n",
       "      <th>...</th>\n",
       "      <td>...</td>\n",
       "      <td>...</td>\n",
       "      <td>...</td>\n",
       "      <td>...</td>\n",
       "      <td>...</td>\n",
       "    </tr>\n",
       "    <tr>\n",
       "      <th>8287</th>\n",
       "      <td>106782</td>\n",
       "      <td>Wolf of Wall Street, The (2013)</td>\n",
       "      <td>Comedy|Crime|Drama</td>\n",
       "      <td>54</td>\n",
       "      <td>3.916667</td>\n",
       "    </tr>\n",
       "    <tr>\n",
       "      <th>8354</th>\n",
       "      <td>109374</td>\n",
       "      <td>Grand Budapest Hotel, The (2014)</td>\n",
       "      <td>Comedy|Drama</td>\n",
       "      <td>52</td>\n",
       "      <td>3.778846</td>\n",
       "    </tr>\n",
       "    <tr>\n",
       "      <th>8358</th>\n",
       "      <td>109487</td>\n",
       "      <td>Interstellar (2014)</td>\n",
       "      <td>Sci-Fi|IMAX</td>\n",
       "      <td>73</td>\n",
       "      <td>3.993151</td>\n",
       "    </tr>\n",
       "    <tr>\n",
       "      <th>8457</th>\n",
       "      <td>112852</td>\n",
       "      <td>Guardians of the Galaxy (2014)</td>\n",
       "      <td>Action|Adventure|Sci-Fi</td>\n",
       "      <td>59</td>\n",
       "      <td>4.050847</td>\n",
       "    </tr>\n",
       "    <tr>\n",
       "      <th>8673</th>\n",
       "      <td>122904</td>\n",
       "      <td>Deadpool (2016)</td>\n",
       "      <td>Action|Adventure|Comedy|Sci-Fi</td>\n",
       "      <td>54</td>\n",
       "      <td>3.833333</td>\n",
       "    </tr>\n",
       "  </tbody>\n",
       "</table>\n",
       "<p>436 rows × 5 columns</p>\n",
       "</div>"
      ],
      "text/plain": [
       "      movieId                             title   \n",
       "0           1                  Toy Story (1995)  \\\n",
       "1           2                    Jumanji (1995)   \n",
       "2           3           Grumpier Old Men (1995)   \n",
       "5           6                       Heat (1995)   \n",
       "6           7                    Sabrina (1995)   \n",
       "...       ...                               ...   \n",
       "8287   106782   Wolf of Wall Street, The (2013)   \n",
       "8354   109374  Grand Budapest Hotel, The (2014)   \n",
       "8358   109487               Interstellar (2014)   \n",
       "8457   112852    Guardians of the Galaxy (2014)   \n",
       "8673   122904                   Deadpool (2016)   \n",
       "\n",
       "                                           genres  rating_count  rating_mean  \n",
       "0     Adventure|Animation|Children|Comedy|Fantasy           215     3.920930  \n",
       "1                      Adventure|Children|Fantasy           110     3.431818  \n",
       "2                                  Comedy|Romance            52     3.259615  \n",
       "5                           Action|Crime|Thriller           102     3.946078  \n",
       "6                                  Comedy|Romance            54     3.185185  \n",
       "...                                           ...           ...          ...  \n",
       "8287                           Comedy|Crime|Drama            54     3.916667  \n",
       "8354                                 Comedy|Drama            52     3.778846  \n",
       "8358                                  Sci-Fi|IMAX            73     3.993151  \n",
       "8457                      Action|Adventure|Sci-Fi            59     4.050847  \n",
       "8673               Action|Adventure|Comedy|Sci-Fi            54     3.833333  \n",
       "\n",
       "[436 rows x 5 columns]"
      ]
     },
     "execution_count": 109,
     "metadata": {},
     "output_type": "execute_result"
    }
   ],
   "source": [
    "grouped_ratings = rating.groupby(\"movieId\").agg({'rating': ['count', 'mean']}).reset_index()\n",
    "grouped_ratings.columns = ['movieId', 'rating_count', 'rating_mean']\n",
    "\n",
    "merged_data = pd.merge(movies, grouped_ratings, on=\"movieId\", how=\"inner\")\n",
    "\n",
    "filtered_data = merged_data[merged_data['rating_count'] > 50]\n",
    "filtered_data"
   ]
  },
  {
   "cell_type": "markdown",
   "metadata": {},
   "source": [
    "**Which movie is the most popular based on  average user ratings?**"
   ]
  },
  {
   "cell_type": "code",
   "execution_count": 35,
   "metadata": {},
   "outputs": [
    {
     "data": {
      "text/plain": [
       "movieId                                      318\n",
       "title           Shawshank Redemption, The (1994)\n",
       "genres                               Crime|Drama\n",
       "rating_count                                 317\n",
       "rating_mean                             4.429022\n",
       "Name: 277, dtype: object"
      ]
     },
     "execution_count": 35,
     "metadata": {},
     "output_type": "execute_result"
    }
   ],
   "source": [
    "most_popular_movie = filtered_data.loc[filtered_data[\"rating_mean\"].idxmax()]\n",
    "most_popular_movie"
   ]
  },
  {
   "cell_type": "markdown",
   "metadata": {},
   "source": [
    "**Which movie is the most popular based on  average user ratings?**"
   ]
  },
  {
   "cell_type": "code",
   "execution_count": 38,
   "metadata": {},
   "outputs": [
    {
     "data": {
      "text/html": [
       "<div>\n",
       "<style scoped>\n",
       "    .dataframe tbody tr th:only-of-type {\n",
       "        vertical-align: middle;\n",
       "    }\n",
       "\n",
       "    .dataframe tbody tr th {\n",
       "        vertical-align: top;\n",
       "    }\n",
       "\n",
       "    .dataframe thead th {\n",
       "        text-align: right;\n",
       "    }\n",
       "</style>\n",
       "<table border=\"1\" class=\"dataframe\">\n",
       "  <thead>\n",
       "    <tr style=\"text-align: right;\">\n",
       "      <th></th>\n",
       "      <th>movieId</th>\n",
       "      <th>title</th>\n",
       "      <th>genres</th>\n",
       "      <th>rating_count</th>\n",
       "      <th>rating_mean</th>\n",
       "    </tr>\n",
       "  </thead>\n",
       "  <tbody>\n",
       "    <tr>\n",
       "      <th>314</th>\n",
       "      <td>356</td>\n",
       "      <td>Forrest Gump (1994)</td>\n",
       "      <td>Comedy|Drama|Romance|War</td>\n",
       "      <td>329</td>\n",
       "      <td>4.164134</td>\n",
       "    </tr>\n",
       "    <tr>\n",
       "      <th>277</th>\n",
       "      <td>318</td>\n",
       "      <td>Shawshank Redemption, The (1994)</td>\n",
       "      <td>Crime|Drama</td>\n",
       "      <td>317</td>\n",
       "      <td>4.429022</td>\n",
       "    </tr>\n",
       "    <tr>\n",
       "      <th>257</th>\n",
       "      <td>296</td>\n",
       "      <td>Pulp Fiction (1994)</td>\n",
       "      <td>Comedy|Crime|Drama|Thriller</td>\n",
       "      <td>307</td>\n",
       "      <td>4.197068</td>\n",
       "    </tr>\n",
       "    <tr>\n",
       "      <th>510</th>\n",
       "      <td>593</td>\n",
       "      <td>Silence of the Lambs, The (1991)</td>\n",
       "      <td>Crime|Horror|Thriller</td>\n",
       "      <td>279</td>\n",
       "      <td>4.161290</td>\n",
       "    </tr>\n",
       "    <tr>\n",
       "      <th>1938</th>\n",
       "      <td>2571</td>\n",
       "      <td>Matrix, The (1999)</td>\n",
       "      <td>Action|Sci-Fi|Thriller</td>\n",
       "      <td>278</td>\n",
       "      <td>4.192446</td>\n",
       "    </tr>\n",
       "  </tbody>\n",
       "</table>\n",
       "</div>"
      ],
      "text/plain": [
       "      movieId                             title                       genres   \n",
       "314       356               Forrest Gump (1994)     Comedy|Drama|Romance|War  \\\n",
       "277       318  Shawshank Redemption, The (1994)                  Crime|Drama   \n",
       "257       296               Pulp Fiction (1994)  Comedy|Crime|Drama|Thriller   \n",
       "510       593  Silence of the Lambs, The (1991)        Crime|Horror|Thriller   \n",
       "1938     2571                Matrix, The (1999)       Action|Sci-Fi|Thriller   \n",
       "\n",
       "      rating_count  rating_mean  \n",
       "314            329     4.164134  \n",
       "277            317     4.429022  \n",
       "257            307     4.197068  \n",
       "510            279     4.161290  \n",
       "1938           278     4.192446  "
      ]
     },
     "execution_count": 38,
     "metadata": {},
     "output_type": "execute_result"
    }
   ],
   "source": [
    "top_5_popular_movies = filtered_data.nlargest(5, 'rating_count')\n",
    "# print(top_5_popular_movies)\n",
    "top_5_popular_movies"
   ]
  },
  {
   "cell_type": "markdown",
   "metadata": {},
   "source": [
    "**Which Sci-Fi movie is \"third most popular\" based on the number of user ratings?**"
   ]
  },
  {
   "cell_type": "code",
   "execution_count": 39,
   "metadata": {},
   "outputs": [],
   "source": [
    "sci_fi_movies = filtered_data[filtered_data['genres'].str.contains('Sci-Fi', case=False, na=False)]\n",
    "\n",
    "third_most_popular_sci_fi_movie = sci_fi_movies.nlargest(3, 'rating_count').iloc[-1]"
   ]
  },
  {
   "cell_type": "code",
   "execution_count": 40,
   "metadata": {},
   "outputs": [
    {
     "data": {
      "text/plain": [
       "movieId                                      480\n",
       "title                       Jurassic Park (1993)\n",
       "genres          Action|Adventure|Sci-Fi|Thriller\n",
       "rating_count                                 238\n",
       "rating_mean                                 3.75\n",
       "Name: 418, dtype: object"
      ]
     },
     "execution_count": 40,
     "metadata": {},
     "output_type": "execute_result"
    }
   ],
   "source": [
    "third_most_popular_sci_fi_movie"
   ]
  },
  {
   "cell_type": "markdown",
   "metadata": {},
   "source": [
    "**Mention the movieId of the movie which has the highest IMDB rating.**"
   ]
  },
  {
   "cell_type": "code",
   "execution_count": 65,
   "metadata": {},
   "outputs": [
    {
     "name": "stdout",
     "output_type": "stream",
     "text": [
      "     movieId   imdbId    tmdbId\n",
      "0          1  0114709     862.0\n",
      "1          2  0113497    8844.0\n",
      "2          3  0113228   15602.0\n",
      "3          6  0113277     949.0\n",
      "4          7  0114319   11860.0\n",
      "..       ...      ...       ...\n",
      "431   106782  0993846  106646.0\n",
      "432   109374  2278388  120467.0\n",
      "433   109487  0816692  157336.0\n",
      "434   112852  2015381  118340.0\n",
      "435   122904  1431045  293660.0\n",
      "\n",
      "[436 rows x 3 columns]\n"
     ]
    }
   ],
   "source": [
    "import pandas as pd\n",
    "\n",
    "df_links = pd.read_csv(\"links.csv\", dtype={'imdbId': str})\n",
    "\n",
    "merged_links = pd.merge(df_links, filtered_data[['movieId']], on='movieId', how='inner')\n",
    "\n",
    "print(merged_links)\n",
    "\n",
    "merged_links.to_csv(\"filtered_data.csv\", index=False)"
   ]
  },
  {
   "cell_type": "code",
   "execution_count": 66,
   "metadata": {},
   "outputs": [
    {
     "name": "stdout",
     "output_type": "stream",
     "text": [
      "<class 'pandas.core.frame.DataFrame'>\n",
      "RangeIndex: 436 entries, 0 to 435\n",
      "Data columns (total 3 columns):\n",
      " #   Column   Non-Null Count  Dtype  \n",
      "---  ------   --------------  -----  \n",
      " 0   movieId  436 non-null    int64  \n",
      " 1   imdbId   436 non-null    object \n",
      " 2   tmdbId   436 non-null    float64\n",
      "dtypes: float64(1), int64(1), object(1)\n",
      "memory usage: 10.3+ KB\n"
     ]
    }
   ],
   "source": [
    "merged_links.info()"
   ]
  },
  {
   "cell_type": "code",
   "execution_count": null,
   "metadata": {},
   "outputs": [],
   "source": [
    "import pandas as pd\n",
    "import requests\n",
    "from bs4 import BeautifulSoup\n",
    "import time\n",
    "headers = {'User-Agent': 'Mozilla/5.0 (Windows NT 10.0; Win64; x64) AppleWebKit/537.36 (KHTML, like Gecko) Chrome/91.0.4472.124 Safari/537.36'}\n",
    "\n",
    "df_links = pd.read_csv(\"filtered_data.csv\", dtype={'imdbId': str})\n",
    "\n",
    "imdb_base_url = \"http://www.imdb.com/title/tt\"\n",
    "\n",
    "def scrape_imdb_span(imdb_url):\n",
    "    response = requests.get(imdb_url,headers=headers)\n",
    "    soup = BeautifulSoup(response.text, 'html.parser')\n",
    "    span = soup.find('span', class_='sc-bde20123-1 cMEQkK')\n",
    "    return span.text if span else None\n",
    "\n",
    "list_of_data = []\n",
    "\n",
    "for index, row in df_links.iterrows():\n",
    "    imdb_url = imdb_base_url + str(row['imdbId'])\n",
    "    rating_span = scrape_imdb_span(imdb_url)\n",
    "    list_of_data.append({'imdbId':str(row['imdbId']),'rating':rating_span})\n",
    "    time.sleep(1)\n",
    "\n",
    "data_frame = p.DataFrame(list_of_data)\n",
    "data_frame.to_csv(\"imdb_data.csv\", index=False)"
   ]
  },
  {
   "cell_type": "markdown",
   "metadata": {},
   "source": [
    "**Mention the movieId of the movie which has the highest IMDB rating.**"
   ]
  },
  {
   "cell_type": "code",
   "execution_count": 111,
   "metadata": {},
   "outputs": [
    {
     "data": {
      "text/plain": [
       "movieId                                              79132\n",
       "imdbId                                             1375666\n",
       "tmdbId                                             27205.0\n",
       "rating                                                 8.8\n",
       "title                                     Inception (2010)\n",
       "genres     Action|Crime|Drama|Mystery|Sci-Fi|Thriller|IMAX\n",
       "Name: 424, dtype: object"
      ]
     },
     "execution_count": 111,
     "metadata": {},
     "output_type": "execute_result"
    }
   ],
   "source": [
    "imdb_rating = pd.read_csv(\"imdb_data.csv\")\n",
    "filter_data = pd.read_csv(\"filtered_data copy.csv\")\n",
    "merge_data = pd.merge(filter_data, imdb_rating, on = \"imdbId\")\n",
    "all_data = pd.merge(merge_data, pd.read_csv(\"movies.csv\"), on = \"movieId\")\n",
    "sci_fi_movies = all_data[all_data['genres'].str.contains('Sci-Fi', case=False, na=False)]\n",
    "sci_fi_movies.sort_values(by=\"rating\", ascending=False).iloc[0]"
   ]
  },
  {
   "cell_type": "code",
   "execution_count": 4,
   "metadata": {},
   "outputs": [],
   "source": [
    "import pandas as pd\n"
   ]
  },
  {
   "cell_type": "code",
   "execution_count": null,
   "metadata": {},
   "outputs": [],
   "source": []
  }
 ],
 "metadata": {
  "kernelspec": {
   "display_name": "Python 3",
   "language": "python",
   "name": "python3"
  },
  "language_info": {
   "codemirror_mode": {
    "name": "ipython",
    "version": 3
   },
   "file_extension": ".py",
   "mimetype": "text/x-python",
   "name": "python",
   "nbconvert_exporter": "python",
   "pygments_lexer": "ipython3",
   "version": "3.10.0"
  }
 },
 "nbformat": 4,
 "nbformat_minor": 2
}
